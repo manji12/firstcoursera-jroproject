{
 "cells": [
  {
   "cell_type": "markdown",
   "metadata": {},
   "source": [
    "# \"My Jupyter Notebook on IBM Data Science Experience\""
   ]
  },
  {
   "cell_type": "markdown",
   "metadata": {},
   "source": [
    "**Jorge Rivero del Olmo** <br> Blade Technician"
   ]
  },
  {
   "cell_type": "markdown",
   "metadata": {},
   "source": [
    "*Im interested in data science because I love learning and doing stuff and this <br> is great for stand by*"
   ]
  },
  {
   "cell_type": "markdown",
   "metadata": {},
   "source": [
    "This is supose to add two integers, but it seems that my jupyter has a \n",
    "great problem that I have to uninstall my antivirus and lot of stuff so\n",
    "I can use the arithmetic and some other stuff, cant do, so I will put the\n",
    "mechanics and grade as you wish. Jupyter its supposed to have +,* and \n",
    "basic arithmetic operators.\n"
   ]
  },
  {
   "cell_type": "code",
   "execution_count": null,
   "metadata": {},
   "outputs": [],
   "source": [
    "1+5"
   ]
  },
  {
   "cell_type": "markdown",
   "metadata": {},
   "source": [
    "Its suppose to be 1+5= 6, but no cigar. I tried to restart the kernel and nothing and as\n",
    "I said up. No cigar to uninstall my antivirus or other stuff."
   ]
  },
  {
   "cell_type": "markdown",
   "metadata": {},
   "source": [
    "  ***"
   ]
  },
  {
   "cell_type": "markdown",
   "metadata": {},
   "source": [
    "- Maquiavelo "
   ]
  },
  {
   "cell_type": "markdown",
   "metadata": {},
   "source": [
    "[link text](https://www.eluniversal.com.mx)"
   ]
  },
  {
   "cell_type": "markdown",
   "metadata": {},
   "source": []
  }
 ],
 "metadata": {
  "kernelspec": {
   "display_name": "Python",
   "language": "python",
   "name": "conda-env-python-py"
  },
  "language_info": {
   "name": ""
  }
 },
 "nbformat": 4,
 "nbformat_minor": 4
}
